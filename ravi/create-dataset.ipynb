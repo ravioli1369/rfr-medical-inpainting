{
 "cells": [
  {
   "cell_type": "code",
   "execution_count": 1,
   "metadata": {},
   "outputs": [],
   "source": [
    "import os\n",
    "import numpy as np\n",
    "from glob import glob\n",
    "from PIL import Image\n",
    "from random import shuffle\n",
    "from utilities import create_strip_mask, create_array_with_zeros"
   ]
  },
  {
   "cell_type": "markdown",
   "metadata": {},
   "source": [
    "# **Resize Images to 256x256**"
   ]
  },
  {
   "cell_type": "code",
   "execution_count": 15,
   "metadata": {},
   "outputs": [],
   "source": [
    "images = glob('data/SARS-COV-2-Ct-Scan-Dataset/images/**/*.png', recursive=True)\n",
    "shuffle(images)\n",
    "for (i, image) in enumerate(images):\n",
    "    im = Image.open(image)\n",
    "    im = im.resize((256, 256))\n",
    "    im = im.convert('L')\n",
    "    im = np.array(im)\n",
    "    np.save(f\"data/SARS-COV-2-Ct-Scan-Dataset/resized/{image.split('/')[-2]}/{i}\", im)"
   ]
  },
  {
   "cell_type": "markdown",
   "metadata": {},
   "source": [
    "# **Create the masks**"
   ]
  },
  {
   "cell_type": "code",
   "execution_count": 3,
   "metadata": {},
   "outputs": [],
   "source": [
    "size = 256\n",
    "hole_ratio = 8\n",
    "number_of_strips = 4\n",
    "number_of_holes = 8\n",
    "num_masks = 3000\n",
    "for i in range(num_masks):\n",
    "   my_mask_strip = create_strip_mask(size, 16, 'HV', number_of_strips)\n",
    "   my_mask_hole = create_array_with_zeros(size, hole_ratio, number_of_holes)\n",
    "   if number_of_strips == 1:\n",
    "      os.makedirs(f'data/SARS-COV-2-Ct-Scan-Dataset/resized/masks/{number_of_strips}_HVstrip/', exist_ok=True)\n",
    "      np.save(f'data/SARS-COV-2-Ct-Scan-Dataset/resized/masks/{number_of_strips}_HVstrip/{i}', my_mask_strip)\n",
    "      os.makedirs(f'data/SARS-COV-2-Ct-Scan-Dataset/resized/masks/{number_of_holes}_hole/', exist_ok=True)\n",
    "      np.save(f'data/SARS-COV-2-Ct-Scan-Dataset/resized/masks/{number_of_holes}_hole/{i}', my_mask_hole)\n",
    "   else:\n",
    "      os.makedirs(f'data/SARS-COV-2-Ct-Scan-Dataset/resized/masks/{number_of_holes}_holes/', exist_ok=True)\n",
    "      np.save(f'data/SARS-COV-2-Ct-Scan-Dataset/resized/masks/{number_of_holes}_holes/{i}', my_mask_hole)\n",
    "      os.makedirs(f'data/SARS-COV-2-Ct-Scan-Dataset/resized/masks/{number_of_strips}_HVstrips/', exist_ok=True)\n",
    "      np.save(f'data/SARS-COV-2-Ct-Scan-Dataset/resized/masks/{number_of_strips}_HVstrips/{i}', my_mask_strip)"
   ]
  },
  {
   "cell_type": "code",
   "execution_count": null,
   "metadata": {},
   "outputs": [],
   "source": []
  }
 ],
 "metadata": {
  "kernelspec": {
   "display_name": "cuda",
   "language": "python",
   "name": "python3"
  },
  "language_info": {
   "codemirror_mode": {
    "name": "ipython",
    "version": 3
   },
   "file_extension": ".py",
   "mimetype": "text/x-python",
   "name": "python",
   "nbconvert_exporter": "python",
   "pygments_lexer": "ipython3",
   "version": "3.12.3"
  }
 },
 "nbformat": 4,
 "nbformat_minor": 2
}
